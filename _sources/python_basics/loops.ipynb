{
 "cells": [
  {
   "cell_type": "markdown",
   "metadata": {},
   "source": [
    "# Loops\n",
    "\n",
    "A common use for **lists** is to store a **homogeneous** set of data (meaning, each element has the same **type**). For example, we might store a set of reactant concentrations recorded at different times:"
   ]
  },
  {
   "cell_type": "code",
   "execution_count": 1,
   "metadata": {},
   "outputs": [],
   "source": [
    "reactant_concentrations = [5.0, 4.0, 3.0, 2.0, 1.0]"
   ]
  },
  {
   "cell_type": "markdown",
   "metadata": {},
   "source": [
    "We may want to perform the same calculation on each element of a **list**; for example, calculating the square of each concentration, and then store these results in a new **list*. \n",
    "\n",
    "We _could_ do this using **list indexing**, e.g."
   ]
  },
  {
   "cell_type": "code",
   "execution_count": 5,
   "metadata": {},
   "outputs": [
    {
     "name": "stdout",
     "output_type": "stream",
     "text": [
      "[25.0, 16.0, 9.0, 4.0, 1.0]\n"
     ]
    }
   ],
   "source": [
    "squared_concentrations = [reactant_concentrations[0]**2, \n",
    "                          reactant_concentrations[1]**2,\n",
    "                          reactant_concentrations[2]**2,\n",
    "                          reactant_concentrations[3]**2,\n",
    "                          reactant_concentrations[4]**2]\n",
    "print(squared_concentrations)"
   ]
  },
  {
   "cell_type": "markdown",
   "metadata": {},
   "source": [
    "Note that the new list created on the right hand side has been written split over multiple line. \n",
    "\n",
    "Python ignores the end of a line within pairs of brackets `[]`, `()`, or `{}`.\n",
    "\n",
    "This approach is clunky, and error-prone, and does not scale (imagine if we had 100 values in our dataset!)."
   ]
  },
  {
   "cell_type": "markdown",
   "metadata": {},
   "source": [
    "## Looping over elements of a list using `for`\n",
    "\n",
    "We can **loop** over every element of a list (or indeed of any object that represents an ordered set of values), performing the same operation on each element in turn, using a **for loop**.\n",
    "\n",
    "A **for loop** has the following general syntax\n",
    "\n",
    "```python\n",
    "for variable in iterable:\n",
    "    do something\n",
    "```\n",
    "\n",
    "For example, our calculation above to get the squared concentrations might be rewritten as"
   ]
  },
  {
   "cell_type": "code",
   "execution_count": 6,
   "metadata": {},
   "outputs": [
    {
     "name": "stdout",
     "output_type": "stream",
     "text": [
      "25.0\n",
      "16.0\n",
      "9.0\n",
      "4.0\n",
      "1.0\n"
     ]
    }
   ],
   "source": [
    "for c in reactant_concentrations:\n",
    "    print(c**2)"
   ]
  },
  {
   "cell_type": "markdown",
   "metadata": {},
   "source": [
    "The first line defines the start of the **loop**:\n",
    "\n",
    "- `… in reactant_concentrations:`: We are going to loop over each element in turn of the **list** `reactant_concentrations`. \n",
    "- `for c`: At each **iteration** of the loop, we will assign the variable `c` to the corresponding element in `reactant_concentrations`\n",
    "\n",
    "The first line finishes with a colon `:`.\n",
    "\n",
    "After the first line we define what will happen **inside** the loop. The code **inside** a loop is denoted by being **indented** by a fixed amount of **whitespace**; in this case, four spaces.\n",
    "\n",
    "**Indentation** plays a very important in Python, because it marks out where **blocks** of code, such as the code **inside** loops, start and finish."
   ]
  },
  {
   "cell_type": "markdown",
   "metadata": {},
   "source": [
    "When we run this code, for the **first** iteration, the variable `c` is assigned to the **first** value stored in `reactant_concentration`. This is equivalent to writing \n",
    "\n",
    "```python\n",
    "c = reactant_concentration[0]\n",
    "```\n",
    "\n",
    "The line of code **inside** the loop uses this value of `c` to execute the `print()` statement.\n",
    "\n",
    "We then perform the **second** iteration: now the variable `c` is assigned to the **second** value stored in `reactant_concentration`. This is equivalent to \n",
    "\n",
    "```\n",
    "c = reactant_concentration[1]\n",
    "```\n",
    "\n",
    "The line of code **inside** the loop uses this value of `c` to execute the `print()` statement.\n",
    "\n",
    "This is repeated, each time assigning `c` to the next element in the `reactant_concentration` list.\n",
    "\n",
    "Once each element in `reactant_concentration` has been processed, we **exit** the loop.\n",
    "\n",
    "The end of a loop is indicated by **removing** the previous **indentation** e.g."
   ]
  },
  {
   "cell_type": "code",
   "execution_count": 12,
   "metadata": {},
   "outputs": [
    {
     "name": "stdout",
     "output_type": "stream",
     "text": [
      "Inside the loop\n",
      "25.0\n",
      "Inside the loop\n",
      "16.0\n",
      "Inside the loop\n",
      "9.0\n",
      "Inside the loop\n",
      "4.0\n",
      "Inside the loop\n",
      "1.0\n",
      "Outside the loop\n"
     ]
    }
   ],
   "source": [
    "for c in reactant_concentrations:\n",
    "    print('Inside the loop')\n",
    "    print(c**2)\n",
    "print('Outside the loop')"
   ]
  },
  {
   "cell_type": "markdown",
   "metadata": {},
   "source": [
    "Note that the variable `c` can still be used **after** the loop has finished. Furthermore, if you were using a variable `c` **before** this loop, the value will be overwritten:"
   ]
  },
  {
   "cell_type": "code",
   "execution_count": 17,
   "metadata": {},
   "outputs": [
    {
     "name": "stdout",
     "output_type": "stream",
     "text": [
      "c = 32.0\n",
      "25.0\n",
      "16.0\n",
      "9.0\n",
      "4.0\n",
      "1.0\n",
      "finished the loop\n",
      "c = 1.0\n"
     ]
    }
   ],
   "source": [
    "c = '32.0'\n",
    "print(f'c = {c}')\n",
    "for c in reactant_concentrations:\n",
    "    print(c**2)\n",
    "print('finished the loop')\n",
    "print(f'c = {c}')"
   ]
  },
  {
   "cell_type": "markdown",
   "metadata": {},
   "source": [
    "To use a **for loop** to calculate the squared concentrations and store them in a new list, we can use `append()` for each iteration of the loop."
   ]
  },
  {
   "cell_type": "code",
   "execution_count": 18,
   "metadata": {},
   "outputs": [
    {
     "name": "stdout",
     "output_type": "stream",
     "text": [
      "[25.0, 16.0, 9.0, 4.0, 1.0]\n"
     ]
    }
   ],
   "source": [
    "squared_concentrations = []\n",
    "for c in reactant_concentrations:\n",
    "    squared_concentrations.append(c**2)\n",
    "print(squared_concentrations)"
   ]
  },
  {
   "cell_type": "markdown",
   "metadata": {},
   "source": [
    "Here we create and **empty** list on the first line. Then each iteration of the loop calculates the square of the relevant element of `reactant_concentrations`, and uses `append()` to add this to the end of `squared_concentrations`.\n",
    "\n",
    "By adding a `print()` statement inside the loop, we can see how this builds up the final `squared_concentrations` list:"
   ]
  },
  {
   "cell_type": "code",
   "execution_count": 23,
   "metadata": {},
   "outputs": [
    {
     "name": "stdout",
     "output_type": "stream",
     "text": [
      "In the loop\n",
      "squared_concentrations = [25.0]\n",
      "In the loop\n",
      "squared_concentrations = [25.0, 16.0]\n",
      "In the loop\n",
      "squared_concentrations = [25.0, 16.0, 9.0]\n",
      "In the loop\n",
      "squared_concentrations = [25.0, 16.0, 9.0, 4.0]\n",
      "In the loop\n",
      "squared_concentrations = [25.0, 16.0, 9.0, 4.0, 1.0]\n",
      "Outside the loop\n",
      "[25.0, 16.0, 9.0, 4.0, 1.0]\n"
     ]
    }
   ],
   "source": [
    "squared_concentrations = []\n",
    "for c in reactant_concentrations:\n",
    "    squared_concentrations.append(c**2)\n",
    "    print('In the loop')\n",
    "    print(f'squared_concentrations = {squared_concentrations}')\n",
    "print('Outside the loop')\n",
    "print(squared_concentrations)"
   ]
  },
  {
   "cell_type": "markdown",
   "metadata": {},
   "source": [
    "## Enumerating loop iterations\n",
    "\n",
    "Sometimes we want to track which iteration of a loop we are on, while we are going through it. One way to do this is to add another variable that we use to track the numbers of iterations:"
   ]
  },
  {
   "cell_type": "code",
   "execution_count": 24,
   "metadata": {},
   "outputs": [
    {
     "name": "stdout",
     "output_type": "stream",
     "text": [
      "In the loop, iteration 0\n",
      "squared_concentrations = [25.0]\n",
      "In the loop, iteration 1\n",
      "squared_concentrations = [25.0, 16.0]\n",
      "In the loop, iteration 2\n",
      "squared_concentrations = [25.0, 16.0, 9.0]\n",
      "In the loop, iteration 3\n",
      "squared_concentrations = [25.0, 16.0, 9.0, 4.0]\n",
      "In the loop, iteration 4\n",
      "squared_concentrations = [25.0, 16.0, 9.0, 4.0, 1.0]\n",
      "Outside the loop\n",
      "[25.0, 16.0, 9.0, 4.0, 1.0]\n"
     ]
    }
   ],
   "source": [
    "squared_concentrations = []\n",
    "i = 0\n",
    "for c in reactant_concentrations:\n",
    "    squared_concentrations.append(c**2)\n",
    "    print(f'In the loop, iteration {i}')\n",
    "    print(f'squared_concentrations = {squared_concentrations}')\n",
    "    i = i + 1\n",
    "print('Outside the loop')\n",
    "print(squared_concentrations)"
   ]
  },
  {
   "cell_type": "markdown",
   "metadata": {},
   "source": [
    "A better way to do this is to use the `enumerate()` function:"
   ]
  },
  {
   "cell_type": "code",
   "execution_count": 25,
   "metadata": {},
   "outputs": [
    {
     "name": "stdout",
     "output_type": "stream",
     "text": [
      "In the loop, iteration 0\n",
      "squared_concentrations = [25.0]\n",
      "In the loop, iteration 1\n",
      "squared_concentrations = [25.0, 16.0]\n",
      "In the loop, iteration 2\n",
      "squared_concentrations = [25.0, 16.0, 9.0]\n",
      "In the loop, iteration 3\n",
      "squared_concentrations = [25.0, 16.0, 9.0, 4.0]\n",
      "In the loop, iteration 4\n",
      "squared_concentrations = [25.0, 16.0, 9.0, 4.0, 1.0]\n",
      "Outside the loop\n",
      "[25.0, 16.0, 9.0, 4.0, 1.0]\n"
     ]
    }
   ],
   "source": [
    "squared_concentrations = []\n",
    "for i, c in enumerate(reactant_concentrations):\n",
    "    squared_concentrations.append(c**2)\n",
    "    print(f'In the loop, iteration {i}')\n",
    "    print(f'squared_concentrations = {squared_concentrations}')\n",
    "print('Outside the loop')\n",
    "print(squared_concentrations)"
   ]
  },
  {
   "cell_type": "markdown",
   "metadata": {},
   "source": [
    "The `enumerate()` function effectively converts a simple **list** such as `reactant_concentrations` into a sequence of **pairs** of values, i.e.\n",
    "\n",
    "```python\n",
    "((0, 5.0), (1, 4.0), (2, 3.0), (3, 2.0), (1, 1.0))\n",
    "```\n",
    "\n",
    "Now each iteration of the loop assigns `i` *and* `c` to their respective values."
   ]
  },
  {
   "cell_type": "markdown",
   "metadata": {},
   "source": [
    "## List comprehensions\n",
    "\n",
    "In the example above, we started with a list of values, looped over every element and performed an operation on that element (squaring it) and then stored the results, in order, in a new list. This is a commmon programming pattern, and Python provides a shorthand syntax for doing this, called **list comprehensions**.\n",
    "\n",
    "The general syntax of a **list comprehension** is\n",
    "\n",
    "```python\n",
    "new_list = [expression for element in iterable]\n",
    "```\n",
    "\n",
    "Compare this to the equivalent **for loop** construction:\n",
    "\n",
    "```python\n",
    "new_list = []\n",
    "for element in iterable:\n",
    "    new_list.append(expression)\n",
    "```"
   ]
  },
  {
   "cell_type": "markdown",
   "metadata": {},
   "source": [
    "Our example of computing squared reactant concentrations can be rewritten using a **list comprehension** as"
   ]
  },
  {
   "cell_type": "code",
   "execution_count": 26,
   "metadata": {},
   "outputs": [
    {
     "name": "stdout",
     "output_type": "stream",
     "text": [
      "[25.0, 16.0, 9.0, 4.0, 1.0]\n"
     ]
    }
   ],
   "source": [
    "squared_concentrations = [c**2 for c in reactant_concentrations]\n",
    "print(squared_concentrations)"
   ]
  },
  {
   "cell_type": "markdown",
   "metadata": {},
   "source": [
    "## Nested loops\n",
    "\n",
    "We saw previously that **lists** can be **nested**, i.e. a **list** may contain one of more **sublists** e.g."
   ]
  },
  {
   "cell_type": "code",
   "execution_count": 31,
   "metadata": {},
   "outputs": [
    {
     "name": "stdout",
     "output_type": "stream",
     "text": [
      "[[1, 2, 3], [4, 5, 6], [7, 8, 9]]\n",
      "[4, 5, 6]\n",
      "6\n"
     ]
    }
   ],
   "source": [
    "my_list = [[1, 2, 3], [4, 5, 6], [7, 8, 9]]\n",
    "print(my_list)\n",
    "print(my_list[1])\n",
    "print(my_list[1][2])"
   ]
  },
  {
   "cell_type": "markdown",
   "metadata": {},
   "source": [
    "If we loop over the elements of this **nested list**, we get each **sublist** in turn:"
   ]
  },
  {
   "cell_type": "code",
   "execution_count": 32,
   "metadata": {},
   "outputs": [
    {
     "name": "stdout",
     "output_type": "stream",
     "text": [
      "0 [1, 2, 3]\n",
      "1 [4, 5, 6]\n",
      "2 [7, 8, 9]\n"
     ]
    }
   ],
   "source": [
    "for i, sublist in enumerate(my_list):\n",
    "    print(i, sublist)"
   ]
  },
  {
   "cell_type": "markdown",
   "metadata": {},
   "source": [
    "We can loop over each element in each **sublist** by writing a second **loop** inside the first **loop** (giving us a pair of **nested loops**):"
   ]
  },
  {
   "cell_type": "code",
   "execution_count": 39,
   "metadata": {},
   "outputs": [
    {
     "name": "stdout",
     "output_type": "stream",
     "text": [
      "outer loop iteration: 0\n",
      "inner loop iteration: 0\n",
      "element = 1\n",
      "outer loop iteration: 0\n",
      "inner loop iteration: 1\n",
      "element = 2\n",
      "outer loop iteration: 0\n",
      "inner loop iteration: 2\n",
      "element = 3\n",
      "outer loop iteration: 1\n",
      "inner loop iteration: 0\n",
      "element = 4\n",
      "outer loop iteration: 1\n",
      "inner loop iteration: 1\n",
      "element = 5\n",
      "outer loop iteration: 1\n",
      "inner loop iteration: 2\n",
      "element = 6\n",
      "outer loop iteration: 2\n",
      "inner loop iteration: 0\n",
      "element = 7\n",
      "outer loop iteration: 2\n",
      "inner loop iteration: 1\n",
      "element = 8\n",
      "outer loop iteration: 2\n",
      "inner loop iteration: 2\n",
      "element = 9\n"
     ]
    }
   ],
   "source": [
    "for i, sublist in enumerate(my_list):\n",
    "    for j, element in enumerate(sublist):\n",
    "        print(f'outer loop iteration: {i}')\n",
    "        print(f'inner loop iteration: {j}')\n",
    "        print(f'element = {element}')"
   ]
  },
  {
   "cell_type": "markdown",
   "metadata": {},
   "source": [
    "We can also write a **nested loop** so that code is only executed as part of the **outer** loop, e.g."
   ]
  },
  {
   "cell_type": "code",
   "execution_count": 40,
   "metadata": {},
   "outputs": [
    {
     "name": "stdout",
     "output_type": "stream",
     "text": [
      "In the outer loop: iteration 0\n",
      "    In the inner loop: iteration 0\n",
      "    element = 1\n",
      "    In the inner loop: iteration 1\n",
      "    element = 2\n",
      "    In the inner loop: iteration 2\n",
      "    element = 3\n",
      "In the outer loop again: iteration 0\n",
      "In the outer loop: iteration 1\n",
      "    In the inner loop: iteration 0\n",
      "    element = 4\n",
      "    In the inner loop: iteration 1\n",
      "    element = 5\n",
      "    In the inner loop: iteration 2\n",
      "    element = 6\n",
      "In the outer loop again: iteration 1\n",
      "In the outer loop: iteration 2\n",
      "    In the inner loop: iteration 0\n",
      "    element = 7\n",
      "    In the inner loop: iteration 1\n",
      "    element = 8\n",
      "    In the inner loop: iteration 2\n",
      "    element = 9\n",
      "In the outer loop again: iteration 2\n"
     ]
    }
   ],
   "source": [
    "for i, sublist in enumerate(my_list):\n",
    "    print(f\"In the outer loop: iteration {i}\")\n",
    "    for j, element in enumerate(sublist):\n",
    "        print(f\"    In the inner loop: iteration {j}\")\n",
    "        print(f\"    element = {element}\")\n",
    "    print(f\"In the outer loop again: iteration {i}\")"
   ]
  },
  {
   "cell_type": "markdown",
   "metadata": {},
   "source": [
    "## Exercise\n",
    "\n",
    "Rewrite or modify your code from the **Lists** exercise 2 to calculate the distances between each pair of atoms, using a **nested loop**."
   ]
  }
 ],
 "metadata": {
  "kernelspec": {
   "display_name": "Python 3",
   "language": "python",
   "name": "python3"
  },
  "language_info": {
   "codemirror_mode": {
    "name": "ipython",
    "version": 3
   },
   "file_extension": ".py",
   "mimetype": "text/x-python",
   "name": "python",
   "nbconvert_exporter": "python",
   "pygments_lexer": "ipython3",
   "version": "3.7.7"
  }
 },
 "nbformat": 4,
 "nbformat_minor": 4
}
