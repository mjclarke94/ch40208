{
 "cells": [
  {
   "cell_type": "markdown",
   "metadata": {},
   "source": [
    "# Objects and operations\n",
    "\n",
    "Python is a a popular scientific programming language and is regularly used both inside and outside of academia. \n",
    "In this course, we hope to introduce programming in Python before going on to show some applications of the langauge in a computational chemistry setting. \n",
    "The vision for the course structure is something a bit like that shown in {numref}`Figure {number} <content>`.\n",
    "This means that we need to start by introducing some Python.\n",
    "\n",
    "```{figure} ./images/content.png\n",
    "---\n",
    "scale: 35%\n",
    "name: content\n",
    "alt: A plot of the chemistry content increasing linearly over time while the programming content decreases at the same rate.\n",
    "---\n",
    "What you can expect to be learning over time.\n",
    "```\n",
    "\n",
    "Python consists of objects of *types*, where the type of an object may determine the operations that may be performed on it. \n",
    "For example, let us consider a simple numerical type, the integer."
   ]
  },
  {
   "cell_type": "code",
   "execution_count": 1,
   "metadata": {},
   "outputs": [
    {
     "data": {
      "text/plain": [
       "4"
      ]
     },
     "execution_count": 1,
     "metadata": {},
     "output_type": "execute_result"
    }
   ],
   "source": [
    "4"
   ]
  },
  {
   "cell_type": "markdown",
   "metadata": {},
   "source": [
    "The object in the above cell is an integer (or `int`), we can get the type of this object with the `type()` function."
   ]
  },
  {
   "cell_type": "code",
   "execution_count": 2,
   "metadata": {},
   "outputs": [
    {
     "data": {
      "text/plain": [
       "int"
      ]
     },
     "execution_count": 2,
     "metadata": {},
     "output_type": "execute_result"
    }
   ],
   "source": [
    "type(4)"
   ]
  },
  {
   "cell_type": "markdown",
   "metadata": {},
   "source": [
    "Since this object is numerical in nature, we can imagine using it in mathematical operations. "
   ]
  },
  {
   "cell_type": "code",
   "execution_count": 3,
   "metadata": {},
   "outputs": [
    {
     "data": {
      "text/plain": [
       "8"
      ]
     },
     "execution_count": 3,
     "metadata": {},
     "output_type": "execute_result"
    }
   ],
   "source": [
    "4 + 4"
   ]
  },
  {
   "cell_type": "code",
   "execution_count": 4,
   "metadata": {},
   "outputs": [
    {
     "data": {
      "text/plain": [
       "int"
      ]
     },
     "execution_count": 4,
     "metadata": {},
     "output_type": "execute_result"
    }
   ],
   "source": [
    "type(4 + 4)"
   ]
  },
  {
   "cell_type": "markdown",
   "metadata": {},
   "source": [
    "Above, we have used a mathematical operation between two integers to create a new integer object.\n",
    "Integers are whole numbers, numbers that do not have a decimal point (e.g. 1, 2, 3, 4, 5, 6, etc.). \n",
    "However, Python is also capable of handling floating point (or `float`) type numbers, where there is a decimal point."
   ]
  },
  {
   "cell_type": "code",
   "execution_count": 5,
   "metadata": {},
   "outputs": [
    {
     "data": {
      "text/plain": [
       "3.14"
      ]
     },
     "execution_count": 5,
     "metadata": {},
     "output_type": "execute_result"
    }
   ],
   "source": [
    "3.14"
   ]
  },
  {
   "cell_type": "code",
   "execution_count": 6,
   "metadata": {},
   "outputs": [
    {
     "data": {
      "text/plain": [
       "float"
      ]
     },
     "execution_count": 6,
     "metadata": {},
     "output_type": "execute_result"
    }
   ],
   "source": [
    "type(3.14)"
   ]
  },
  {
   "cell_type": "markdown",
   "metadata": {},
   "source": [
    "These floating point numbers can also be used in mathematical operations."
   ]
  },
  {
   "cell_type": "code",
   "execution_count": 7,
   "metadata": {},
   "outputs": [
    {
     "data": {
      "text/plain": [
       "3.3000000000000003"
      ]
     },
     "execution_count": 7,
     "metadata": {},
     "output_type": "execute_result"
    }
   ],
   "source": [
    "1.1 + 2.2"
   ]
  },
  {
   "cell_type": "markdown",
   "metadata": {},
   "source": [
    "Notice, above the result of `1.1 + 2.2` is `3.3000000000000003`, which isn't exactly correct. \n",
    "This results from a problem of the way that floating point numbers are stored in the computer's memory, known as [floating point arthimetic](https://floating-point-gui.de). \n",
    "You may see examples of this throughout this course, typically the error in the result is **very** small. \n",
    "In the example above the result is off by less than $1\\times 10^{-15}$ of a percent. \n",
    "Therefore, it is unlikely that this should impact the computation that you perform in this course. \n",
    "However, it is important to be aware of this problem.\n",
    "\n",
    "> **Exercise** : In a Jupyter Notebook on your JupyterHub instance, consider the difference between `1`, `1.` and `1.0` as interpreted by Python.\n",
    "> Use the `type()` function to determine the type of each of the values.\n",
    "> From this, explain (in a Markdown cell in the same notebook) the importance of the decimal point in teh definition of numerical types in Python.\n",
    "\n",
    "Textual information in Python is stored as in strings (or `str`), such as that shown below."
   ]
  },
  {
   "cell_type": "code",
   "execution_count": 8,
   "metadata": {},
   "outputs": [
    {
     "data": {
      "text/plain": [
       "'Hello World!'"
      ]
     },
     "execution_count": 8,
     "metadata": {},
     "output_type": "execute_result"
    }
   ],
   "source": [
    "\"Hello World!\""
   ]
  },
  {
   "cell_type": "markdown",
   "metadata": {},
   "source": [
    "`\"Hello World!\"` is a [common first program](https://en.wikipedia.org/wiki/%22Hello,_World!%22_program) to write when learning a new programming language. \n",
    "> **Exercise**: Investigate the use of mathematical operations on strings. \n",
    "> Try adding multiple strings together and rationalise to yourself the result of this operation (searching online about \"string concatention\" might help this). \n",
    "> Also see if it is possible to subtract (`-`) one string from another and multiply (`*`) one string by an integer. "
   ]
  }
 ],
 "metadata": {
  "kernelspec": {
   "display_name": "Python 3",
   "language": "python",
   "name": "python3"
  },
  "language_info": {
   "codemirror_mode": {
    "name": "ipython",
    "version": 3
   },
   "file_extension": ".py",
   "mimetype": "text/x-python",
   "name": "python",
   "nbconvert_exporter": "python",
   "pygments_lexer": "ipython3",
   "version": "3.7.6"
  }
 },
 "nbformat": 4,
 "nbformat_minor": 4
}
