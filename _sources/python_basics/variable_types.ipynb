{
 "cells": [
  {
   "cell_type": "markdown",
   "metadata": {},
   "source": [
    "# Variable Types and Assignment\n",
    "\n",
    "Last week, we looked at some simple operations and objects. \n",
    "Here, we will see how we can package these objects into *variables*, enabling their reuse in other parts of the code. \n",
    "Additionally, we will investigate, in detail, the different variable types that are present in Python (previously we saw just **integers**, **floats**, and **strings**). \n",
    "\n",
    "A variable is a container that Python uses to store some from of *data*. \n",
    "A variable may be created and then reused at a later stage in the code.\n",
    "When a variable is *assigned*, the *value* of the variable is set to some computer memory position which is indexed by the *variable name*. \n",
    "So the variable can be reused over and over by using this variable name. \n",
    "For example, the code below will assign the value `8.314` to the variable `ideal_gas_constant`."
   ]
  },
  {
   "cell_type": "code",
   "execution_count": 1,
   "metadata": {},
   "outputs": [],
   "source": [
    "ideal_gas_constant = 8.314"
   ]
  },
  {
   "cell_type": "markdown",
   "metadata": {},
   "source": [
    "Not all variables are the same, they can have different *types*. \n",
    "Different operations will be possible depending on the type of the variable involved. \n",
    "Common variable types that are present in Python include:\n",
    "- *integers* (`int`): whole numbers (1, 0, 2, -3, etc.). There is no decimal point and they can be positive, negative, or zero.\n",
    "- *floats* (`float`): all real numbers (1.0, 3.14, 0.0, -6.4), any value that can be described with a decimal point. This includes numbers in scientific notation, which are written `6.02e23`, where the `eXX` takes the place of the $\\times 10^{\\text{XX}}$. \n",
    "- *complex* (`complex`): complex numbers, which should be familiar from mathematics, such as $1 + 2i$. However, in Python, a `j` is used instead of the $i$ so $1+2i$ becomes `1 + 2j`.\n",
    "- *string* (`str`): textual information, such as a word or a sentence. These are written between single or double inverted commas, `'like this'` or `\"this\"`. `str`-type objects are contained within either double or single quotes. However, you **cannot** use a mixture of the two, e.g. `my_string = 'Hello World!\"` will return an error.\n",
    "- *boolean* (`bool`): a *logical* variable type, named for [George Boole](https://en.wikipedia.org/wiki/George_Boole) who defined an algebraic logic system in the 19th century. These may hold one of two values, `True` or `false. \n",
    "\n",
    "The `ideal_gas_constant` code above assigned a `float`-type variable to the name `ideal_gas_constant`. \n",
    "The `type()` function will inform you of the type of the variable that is passed as an argument.\n",
    "For example, we can use the `type()` function to get the type of the variable named `speed_of_light`."
   ]
  },
  {
   "cell_type": "code",
   "execution_count": 2,
   "metadata": {},
   "outputs": [
    {
     "data": {
      "text/plain": [
       "float"
      ]
     },
     "execution_count": 2,
     "metadata": {},
     "output_type": "execute_result"
    }
   ],
   "source": [
    "speed_of_light = 3.0e8\n",
    "type(speed_of_light)"
   ]
  },
  {
   "cell_type": "markdown",
   "metadata": {},
   "source": [
    "Above, we reused the `speed_of_light` variable within a single cell. \n",
    "But the definition of the variable is stored in the kernel until the kernel is restarted or the variable is redefined. \n",
    "This means we can check the type of `ideal_gas_constant` below, and then redefine the value."
   ]
  },
  {
   "cell_type": "code",
   "execution_count": 3,
   "metadata": {},
   "outputs": [
    {
     "data": {
      "text/plain": [
       "float"
      ]
     },
     "execution_count": 3,
     "metadata": {},
     "output_type": "execute_result"
    }
   ],
   "source": [
    "type(ideal_gas_constant)"
   ]
  },
  {
   "cell_type": "code",
   "execution_count": 4,
   "metadata": {},
   "outputs": [],
   "source": [
    "ideal_gas_constant = 1.987e-3"
   ]
  },
  {
   "cell_type": "markdown",
   "metadata": {},
   "source": [
    "We have redefined the ideal gas constant in units of kcalK<sup>-1</sup>mol<sup>-1</sup>."
   ]
  },
  {
   "cell_type": "code",
   "execution_count": 5,
   "metadata": {},
   "outputs": [
    {
     "data": {
      "text/plain": [
       "float"
      ]
     },
     "execution_count": 5,
     "metadata": {},
     "output_type": "execute_result"
    }
   ],
   "source": [
    "type(ideal_gas_constant)"
   ]
  },
  {
   "cell_type": "markdown",
   "metadata": {},
   "source": [
    "## Exercise:\n",
    "\n",
    "Investigate the creation of variables of different types. \n",
    "Come up with an example of for each of the variable types that is descriptively named. \n",
    "For each check that the `type()` function returns the expected type. "
   ]
  }
 ],
 "metadata": {
  "kernelspec": {
   "display_name": "Python 3",
   "language": "python",
   "name": "python3"
  },
  "language_info": {
   "codemirror_mode": {
    "name": "ipython",
    "version": 3
   },
   "file_extension": ".py",
   "mimetype": "text/x-python",
   "name": "python",
   "nbconvert_exporter": "python",
   "pygments_lexer": "ipython3",
   "version": "3.8.3"
  }
 },
 "nbformat": 4,
 "nbformat_minor": 2
}
