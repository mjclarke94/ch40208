{
 "cells": [
  {
   "cell_type": "markdown",
   "metadata": {},
   "source": [
    "# Loops\n",
    "\n",
    "One of the most useful things about programming is the ability to use it to make the computer perform repetitive task, rather than doing them yourself. \n",
    "*Loops* are the tool in Python that enable this, with Python offering two distinct types of loop:\n",
    "- the `for` loop, which will iterate through a sequence\n",
    "- the `while` loop with will repeat as long as a given logical operation is `True`\n",
    "Let's see both of these in action with a simple electron counting example."
   ]
  },
  {
   "cell_type": "code",
   "execution_count": 1,
   "metadata": {},
   "outputs": [
    {
     "name": "stdout",
     "output_type": "stream",
     "text": [
      "2\n",
      "8\n",
      "8\n",
      "1\n",
      "Total electrons is 19\n"
     ]
    }
   ],
   "source": [
    "electrons = [2, 8, 8, 1]\n",
    "\n",
    "number_of_electrons = 0\n",
    "for e in electrons:\n",
    "    print(e)\n",
    "    number_of_electrons = number_of_electrons + e\n",
    "print(\"Total electrons is {}\".format(number_of_electrons))"
   ]
  },
  {
   "cell_type": "markdown",
   "metadata": {},
   "source": [
    "In the `for` loop, we explicitly loop over every element in the `list`-type object that contains the electrons in each shell of a potassium atom. \n",
    "With each iteration the variable `e` is set to be a value of `2`, then `8`, then `8`, and finally `1`, with the list exhausted the looping stops. \n",
    "The code that we want to repeat is then held inside the [*block*](./functions.html#whitespace-and-indentation) of the `for` loop. \n",
    "In this case, we take the current value of `e` and add it to our running total.\n",
    "After the loop is finished, the program resumes outside of the loop block, printing the total number of electrons. "
   ]
  },
  {
   "cell_type": "code",
   "execution_count": 2,
   "metadata": {},
   "outputs": [
    {
     "name": "stdout",
     "output_type": "stream",
     "text": [
      "2\n",
      "8\n",
      "8\n",
      "1\n",
      "Total electrons is 19\n"
     ]
    }
   ],
   "source": [
    "number_of_electrons = 0\n",
    "i = 0\n",
    "while i < len(electrons):\n",
    "    print(electrons[i])\n",
    "    number_of_electrons = number_of_electrons + electrons[i]\n",
    "    i = i + 1\n",
    "print(\"Total electrons is {}\".format(number_of_electrons))"
   ]
  },
  {
   "cell_type": "markdown",
   "metadata": {},
   "source": [
    "The `while` loop is a bit different. \n",
    "We specify a condition, that while `True` the loop will continue. \n",
    "In this case, we have said that while the variable `i` is less than the length of the list (`4`), the loop should continue. \n",
    "Within the loop block, we add to our running total, using `i` as the index in the list, and then manually increment the variable. \n",
    "This continues until `i` is the value `4` when the list is exhausted and the loop exits, allowing the final value to be printed. \n",
    "\n",
    "> **Exercise**: Write some lists of your own to investigate the functionality, but **be careful** as it is possible to create an infinite loop with the `while` command. \n",
    "> Try writing a loop that will print the number of electrons *if* the electron shell is not filled.\n",
    "\n",
    "There are a few tips to be aware of when using loops. \n",
    "The first is that there is a shorthand for iterating on a variable. \n",
    "```\n",
    "i += 1\n",
    "```\n",
    "This is the same as writing `i = i + 1`. \n",
    "\n",
    "The other tip is that a list from one number to another can be created really easily with the `range` function. "
   ]
  },
  {
   "cell_type": "code",
   "execution_count": 3,
   "metadata": {},
   "outputs": [
    {
     "name": "stdout",
     "output_type": "stream",
     "text": [
      "1\n",
      "2\n",
      "3\n"
     ]
    }
   ],
   "source": [
    "for i in range(1, 4):\n",
    "    print(i)"
   ]
  },
  {
   "cell_type": "markdown",
   "metadata": {},
   "source": [
    "Note that the `range` command (like list indexing) is *inclusive* of the first value and *exclusive* of the last. \n",
    "\n",
    "The list below contains the elemental symbols for the first 8 elements."
   ]
  },
  {
   "cell_type": "code",
   "execution_count": 4,
   "metadata": {},
   "outputs": [],
   "source": [
    "elements = ['H', 'He', 'Li', 'Be', 'B', 'C', 'N', 'O']"
   ]
  },
  {
   "cell_type": "markdown",
   "metadata": {},
   "source": [
    "If we want to get the index of each element of the list while looping over them (without doing it manually as in the `while` loop above), we can use the `enumerate` function. "
   ]
  },
  {
   "cell_type": "code",
   "execution_count": 5,
   "metadata": {},
   "outputs": [
    {
     "name": "stdout",
     "output_type": "stream",
     "text": [
      "0 H\n",
      "1 He\n",
      "2 Li\n",
      "3 Be\n",
      "4 B\n",
      "5 C\n",
      "6 N\n",
      "7 O\n"
     ]
    }
   ],
   "source": [
    "for i, symbol in enumerate(elements):\n",
    "    print(i, symbol)"
   ]
  },
  {
   "cell_type": "markdown",
   "metadata": {},
   "source": [
    "This function will *unpack* to give the index as the variable `i` and the elemental symbols as `symbol`. \n",
    "\n",
    "> **Exercise**: Create the `elements` list in your Notebook, then modify the code above to print the atomic number alongside the elemental symbol. \n",
    "\n",
    "## Escaping loops\n",
    "\n",
    "Sometimes, it can be useful to skip a value in a loop or exit the loop prematurely when some condition is met.\n",
    "Both cases can be programing using the `continue` and `break` commands respectively with the loop block.\n",
    "\n",
    "The `break` command will exit the *inner-most* loop, even if there are still values to loop over. "
   ]
  },
  {
   "cell_type": "code",
   "execution_count": 6,
   "metadata": {},
   "outputs": [
    {
     "name": "stdout",
     "output_type": "stream",
     "text": [
      "13\n"
     ]
    }
   ],
   "source": [
    "numbers = [1, 5, 7, 0, 2, 6, 2]\n",
    "total = 0\n",
    "for i in numbers:\n",
    "    if i == 0:\n",
    "        break\n",
    "    total += i\n",
    "print(total)"
   ]
  },
  {
   "cell_type": "markdown",
   "metadata": {},
   "source": [
    "The `continue` command will skip any code remaining in the loop block for that iteration and skip to the next. "
   ]
  },
  {
   "cell_type": "code",
   "execution_count": 7,
   "metadata": {},
   "outputs": [
    {
     "name": "stdout",
     "output_type": "stream",
     "text": [
      "[2, 4, 1, 5, 2, 6, 3, 4]\n"
     ]
    }
   ],
   "source": [
    "numbers = [-2, 4, 1, -5, 2, 6, -3, -4]\n",
    "for i in range(0, len(numbers)):\n",
    "    if numbers[i] >= 0:\n",
    "        continue\n",
    "    numbers[i] *= -1\n",
    "print(numbers)"
   ]
  },
  {
   "cell_type": "markdown",
   "metadata": {},
   "source": [
    "## List comprehensions\n",
    "\n",
    "A common programming pattern when working with lists is to repeat the same operation on every element of the list and then store the output in a second list. \n",
    "For example, we might want to calculate the kinetic energy of a proton at a series of different velocities (using the function form [earlier](./functions). \n",
    "Doing this with a `for` loop would involve creating a new, empty list and appending each value to it."
   ]
  },
  {
   "cell_type": "code",
   "execution_count": 8,
   "metadata": {},
   "outputs": [
    {
     "name": "stdout",
     "output_type": "stream",
     "text": [
      "[3.3400000000000004e-17, 3.3400000000000002e-15, 3.3400000000000004e-13, 3.34e-11]\n"
     ]
    }
   ],
   "source": [
    "def kinetic_energy(mass, velocity):\n",
    "    \"\"\"\n",
    "    Determine the kinetic energy of a particle.\n",
    "    \n",
    "    Args:\n",
    "        mass (float): Particle mass (kg)\n",
    "        velocity (float): Particle velocity (m/s)\n",
    "        \n",
    "    Returns:\n",
    "        (float): Particle kinetic energy (J)\n",
    "    \"\"\"\n",
    "    ke = 0.5 * mass * velocity ** 2\n",
    "    return ke\n",
    "\n",
    "velocities = [2e5, 2e6, 2e7, 2e8]\n",
    "energies = []\n",
    "for v in velocities:\n",
    "    energies.append(kinetic_energy(1.67e-27, v))\n",
    "print(energies)"
   ]
  },
  {
   "cell_type": "markdown",
   "metadata": {},
   "source": [
    "A *list comprehension* allows us to directly create a new list by iterating over each element in our original list in a single line of code. "
   ]
  },
  {
   "cell_type": "code",
   "execution_count": 9,
   "metadata": {},
   "outputs": [
    {
     "name": "stdout",
     "output_type": "stream",
     "text": [
      "[3.3400000000000004e-17, 3.3400000000000002e-15, 3.3400000000000004e-13, 3.34e-11]\n"
     ]
    }
   ],
   "source": [
    "energies = [kinetic_energy(1.67e-27, v) for v in velocities]\n",
    "print(energies)"
   ]
  },
  {
   "cell_type": "markdown",
   "metadata": {},
   "source": [
    "In the expression, the square brackets `[...]` indicate that the result is a `list`-type collection. \n",
    "\n",
    "> **Exercise**: Using the function that you created in the [flow control](./flow_control) final exercise and the loops that you have learned about in this section, calculate and print the value in joules of the following energies:\n",
    ">\n",
    "> - $1\\;\\text{eV}$\n",
    "> - $423521\\;\\text{eV}$\n",
    "> - $235\\;\\text{kcal}$\n",
    "> - $4.184\\;\\text{kcal}$\n",
    "> - $3\\times10^{14}\\;\\text{eV}$"
   ]
  }
 ],
 "metadata": {
  "kernelspec": {
   "display_name": "Python 3",
   "language": "python",
   "name": "python3"
  },
  "language_info": {
   "codemirror_mode": {
    "name": "ipython",
    "version": 3
   },
   "file_extension": ".py",
   "mimetype": "text/x-python",
   "name": "python",
   "nbconvert_exporter": "python",
   "pygments_lexer": "ipython3",
   "version": "3.7.6"
  }
 },
 "nbformat": 4,
 "nbformat_minor": 4
}
