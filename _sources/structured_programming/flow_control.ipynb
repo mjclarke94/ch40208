{
 "cells": [
  {
   "cell_type": "markdown",
   "metadata": {},
   "source": [
    "# Flow Control\n",
    "\n",
    "To make our code *intelligent* we must write code that can make decisions. \n",
    "This is achieved with a broad tool known as *flow control*, where different commands are used to *control* the *flow* of the program depending on some Boolean variables. \n",
    "\n",
    "The `if` statement is the simplest element of flow control but used correctly it can be very powerful. \n",
    "It allows a different *branch* of the code to accessed *if* a given Boolean variable is `True`. \n",
    "An example of a simple Pythonic if statement is shown here."
   ]
  },
  {
   "cell_type": "code",
   "execution_count": 1,
   "metadata": {},
   "outputs": [
    {
     "name": "stdout",
     "output_type": "stream",
     "text": [
      "Group 1 or 2\n"
     ]
    }
   ],
   "source": [
    "highest_occupied_molecular_orbital = 's'\n",
    "\n",
    "if highest_occupied_molecular_orbital == 's':\n",
    "    print('Group 1 or 2')"
   ]
  },
  {
   "cell_type": "markdown",
   "metadata": {},
   "source": [
    "Above the `==` [logical operator](./logical_operators) is used, and when the variable `highest_occupied_molecular_orbital` is equal to the string `'s'`, this will return the value of `True` meaning that the branch of code within the if statement [*block*](./functions.html#whitespace-and-indentation) may be accessed. \n",
    "We can think of the above code asking \"does `highest_occupied_molecular_orbital` equal `'s'`?\" and if it does, `'Group 1 or 2'` will be printed. \n",
    "\n",
    "> **Exercise**: Write the code above into your Notebook and test what happens if you change the variable to `'p'`.\n",
    "\n",
    "Any logical operation can be used in an if statement. \n",
    "Additionally, you can also make use of an additional command to invert the logical operation of an if statement.\n",
    "This is the `not` command, which negates the logical operation it precedes. "
   ]
  },
  {
   "cell_type": "code",
   "execution_count": 2,
   "metadata": {},
   "outputs": [
    {
     "name": "stdout",
     "output_type": "stream",
     "text": [
      "Not group 1 or 2\n"
     ]
    }
   ],
   "source": [
    "highest_occupied_molecular_orbital = 'p'\n",
    "\n",
    "if not highest_occupied_molecular_orbital == 's':\n",
    "    print('Not group 1 or 2')"
   ]
  },
  {
   "cell_type": "markdown",
   "metadata": {},
   "source": [
    "The functionality of the if statement can be extended, adding the ability to include a different code *block* if the logical operation returns `False`.\n",
    "This is known as `else`, an example of this is included below."
   ]
  },
  {
   "cell_type": "code",
   "execution_count": 3,
   "metadata": {},
   "outputs": [
    {
     "name": "stdout",
     "output_type": "stream",
     "text": [
      "Not group 1 or 2\n"
     ]
    }
   ],
   "source": [
    "highest_occupied_molecular_orbital = 'p'\n",
    "\n",
    "if highest_occupied_molecular_orbital == 's':\n",
    "    print('Group 1 or 2')\n",
    "else:\n",
    "    print('Not group 1 or 2')"
   ]
  },
  {
   "cell_type": "markdown",
   "metadata": {},
   "source": [
    "Notice, that the `else` command does not have a logical operation associated with it, as it catches everything possible option that returns `False` from the `if` command. \n",
    "Additional logical operations can be included using the `elif` keyword, which can be seen in action below. "
   ]
  },
  {
   "cell_type": "code",
   "execution_count": 4,
   "metadata": {},
   "outputs": [
    {
     "name": "stdout",
     "output_type": "stream",
     "text": [
      "Group 13 to 17\n"
     ]
    }
   ],
   "source": [
    "highest_occupied_molecular_orbital = 'p'\n",
    "\n",
    "if highest_occupied_molecular_orbital == 's':\n",
    "    print('Group 1 or 2')\n",
    "elif highest_occupied_molecular_orbital == 'p':\n",
    "    print('Group 13 to 17')\n",
    "elif highest_occupied_molecular_orbital == 'd':\n",
    "    print('Transition metal')\n",
    "elif highest_occupied_molecular_orbital == 'f':\n",
    "    print('Lanthanide or actinide')\n",
    "else:\n",
    "    print('We only accept experimentally measured elements')"
   ]
  },
  {
   "cell_type": "markdown",
   "metadata": {},
   "source": [
    "In the above code, the following sequence of questions is considered:\n",
    "\n",
    "- Does `highest_occupied_molecular_orbital` have the value `'s'`? If yes print `'Group 1 or 2'` else go to the next step.\n",
    "- Does `highest_occupied_molecular_orbital` have the value `'p'`? If yes print `'Group 13 or 17'` else go to the next step.\n",
    "- Does `highest_occupied_molecular_orbital` have the value `'d'`? If yes print `'Transition metal'` else go to the next step.\n",
    "- Does `highest_occupied_molecular_orbital` have the value `'f'`? If yes print `'Lanthanide or actinide'` else go to the next step.\n",
    "- You have exhausted the discovered ground state orbitals (and probably your patience!), print some explanation. \n",
    "\n",
    "> **Exercise**: Write a function that is passed and energy and a unit, that is either kilocalories (kcal) or electronvolts (eV). \n",
    "> Using flow control, determine the correction conversion to perform to return a value for the energy in units of joules (J). \n",
    "> The conversion factors are given below. \n",
    ">\n",
    "> $$1\\;\\text{kcal} = 4184\\;\\text{J}\\;\\;\\;\\;1\\;\\text{eV}=1.6022\\times10^{-19}\\;\\text{J} $$\n",
    "> \n",
    "> Make sure to print something apropriate if the unit passed is not compatible (e.g. it is not kcal or eV). "
   ]
  }
 ],
 "metadata": {
  "kernelspec": {
   "display_name": "Python 3",
   "language": "python",
   "name": "python3"
  },
  "language_info": {
   "codemirror_mode": {
    "name": "ipython",
    "version": 3
   },
   "file_extension": ".py",
   "mimetype": "text/x-python",
   "name": "python",
   "nbconvert_exporter": "python",
   "pygments_lexer": "ipython3",
   "version": "3.7.6"
  }
 },
 "nbformat": 4,
 "nbformat_minor": 4
}
