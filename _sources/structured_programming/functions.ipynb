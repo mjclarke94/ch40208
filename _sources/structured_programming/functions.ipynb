{
 "cells": [
  {
   "cell_type": "markdown",
   "metadata": {},
   "source": [
    "# Functions\n",
    "\n",
    "Frequently in programming, there is a piece of code that you want to reuse, after all, one of the major utilities of writing some program to perform an action is the task automation that is possible.\n",
    "Python (along with most programming languages) allows *functions* to be written. \n",
    "These are segments of code to which *arguments* are passed and some operation is performed. \n",
    "\n",
    "You have already encountered a few examples of functions, such as `print()` and `type()`. \n",
    "However, now we will see how you can write your functions. \n",
    "A function is easily recognised in Python, as it is some statement followed immediately by a set of brackets (which contain the arguments). \n",
    "\n",
    "This general syntax for *defining* a Python function is as follows."
   ]
  },
  {
   "cell_type": "code",
   "execution_count": 1,
   "metadata": {},
   "outputs": [],
   "source": [
    "def kinetic_energy(mass, velocity):\n",
    "    \"\"\"\n",
    "    Determine the kinetic energy of a particle.\n",
    "    \n",
    "    Args:\n",
    "        mass (float): Particle mass (kg)\n",
    "        velocity (float): Particle velocity (m/s)\n",
    "        \n",
    "    Returns:\n",
    "        (float): Particle kinetic energy (J)\n",
    "    \"\"\"\n",
    "    ke = 0.5 * mass * velocity ** 2\n",
    "    return ke"
   ]
  },
  {
   "cell_type": "markdown",
   "metadata": {},
   "source": [
    "Above, the function has been given the name `kinetic_energy` (note that like variables, function names must all be one word) and takes two arguments; `mass` and `velocity`, the kinetic energy is then found and *returned*. \n",
    "\n",
    "Following the definition of a function, it is possible to use it as follows."
   ]
  },
  {
   "cell_type": "code",
   "execution_count": 2,
   "metadata": {},
   "outputs": [
    {
     "data": {
      "text/plain": [
       "6.925824000000001e-11"
      ]
     },
     "execution_count": 2,
     "metadata": {},
     "output_type": "execute_result"
    }
   ],
   "source": [
    "kinetic_energy(1.67e-27, 2.88e8)"
   ]
  },
  {
   "cell_type": "markdown",
   "metadata": {},
   "source": [
    "The function has been called with the variables `mass=1.67e-27` (the mass of a single proton) and `velocity=2.97e8` (96 % the speed of light). \n",
    "You can imagine that any time the function is called, the contents of the function replace the function call itself.\n",
    "\n",
    "```\n",
    ">> kinetic_energy(1.67e-26, 2.88e8)\n",
    ">> ke = 0.5 * 1.67e-27 * 2.88e8 ** 2\n",
    ">> return 0.5 * 1.67e-27 * 2.88e8 ** 2\n",
    "```\n",
    "\n",
    "So the result of that calculation is returned. \n",
    "\n",
    "Let us look in a bit more detail about the structure of a function definition. \n",
    "Considering the `kinetic_energy` function above, there are four main elements: \n",
    "- **Definition**: This is the first line (`def kinetic_energy(mass, velocity):`) where the name and arguments of the function are defined. Note that the Python interpreter identifies a function by the `def` command that precedes the function name.\n",
    "- **Docstring**: This is the content between the triple quotation marks (`\"\"\"`). This contains documentation about what the function does, including the arguments (`Args:`) and what is returned (`Returns:`).\n",
    "- **Content**: This is the code of the function, in the example above, this is just one line (`ke = 0.5 * mass * velocity ** 2`), however, it can be very long.\n",
    "- **Return**: The information that is returned from the function is passed with the command `return`. The `kinetic_energy` function returns the `ke` variable in the line `return ke`. \n",
    "\n",
    "## Whitespace and indentation\n",
    "\n",
    "Python takes whitespace and indentation very seriously. \n",
    "It is used to identify a *block*; such as a function. \n",
    "The function content begins when the indented section starts and ends when the indentation is removed. \n",
    "In the function above, the docstring, content and return of the function are all with this block, if the whitespace is removed, then Python will consider the function completed at this point. \n",
    "The indentation can be any length (although 4 spaces are the most commonly found), but it needs to be consistent. \n",
    "Through this course, we will encounter quite a few examples of other *blocks*, when you come across these try to take note of the importance of the whitespace that is used. \n",
    "\n",
    "## Definition\n",
    "\n",
    "A function is defined using the command `def`, which tell the Python interpreter that a function definition is occurring in that line. \n",
    "The function definition consists of a function name followed by brackets, some arguments (although not essential), and a colon. \n",
    "The number of arguments that a function may have can be anything from 0 to infinity (although the latter is obviously impractical). \n",
    "If a function has no arguments, the brackets are still necessary, although there will be nothing between them. \n",
    "\n",
    "In addition to arguments, a function may also have keyword arguments. \n",
    "These are arguments that have *default* values given in the function definition that may be changed when the function is called.\n",
    "An example of a keyword argument is shown below."
   ]
  },
  {
   "cell_type": "code",
   "execution_count": 3,
   "metadata": {},
   "outputs": [],
   "source": [
    "def beer_lambert(epsilon, absorbance, path_length=1.):\n",
    "    \"\"\"\n",
    "    Evaluate the concentration of a solution, using the Beer-Lambert law.\n",
    "    \n",
    "    Args:\n",
    "        epsilon (float): Molar attenuation coefficient (L/(mol cm))\n",
    "        absorbance (float): Absorbance of the solution\n",
    "        path_lenght (float, optional): Distance travelled through the sample (cm).\n",
    "    \n",
    "    Returns:\n",
    "        (float): Concentration of solution (mol/L)\n",
    "    \"\"\"\n",
    "    concentration = absorbance / (epsilon * path_length)\n",
    "    return concentration"
   ]
  },
  {
   "cell_type": "markdown",
   "metadata": {},
   "source": [
    "In the Beer-Lambert law function above, the path length is assumed to be 1 cm, if no other value is given (this is because most spectroscopic cuvettes are 1 cm wide). \n",
    "This means that there is now two possible ways to call the function. \n",
    "*If* the path length is 1 cm, the following can be run."
   ]
  },
  {
   "cell_type": "code",
   "execution_count": 4,
   "metadata": {},
   "outputs": [
    {
     "data": {
      "text/plain": [
       "0.009523809523809525"
      ]
     },
     "execution_count": 4,
     "metadata": {},
     "output_type": "execute_result"
    }
   ],
   "source": [
    "beer_lambert(21000, 200)"
   ]
  },
  {
   "cell_type": "markdown",
   "metadata": {},
   "source": [
    "*Else* if the path length is some other value (e.g. 10 cm), then the following is run."
   ]
  },
  {
   "cell_type": "code",
   "execution_count": 5,
   "metadata": {},
   "outputs": [
    {
     "data": {
      "text/plain": [
       "0.0009523809523809524"
      ]
     },
     "execution_count": 5,
     "metadata": {},
     "output_type": "execute_result"
    }
   ],
   "source": [
    "beer_lambert(21000, 200, path_length=10)"
   ]
  },
  {
   "cell_type": "markdown",
   "metadata": {},
   "source": [
    "While it makes the code clearer, the `path_length` keyword is not necessary for the code to run. "
   ]
  },
  {
   "cell_type": "code",
   "execution_count": 6,
   "metadata": {},
   "outputs": [
    {
     "data": {
      "text/plain": [
       "0.0009523809523809524"
      ]
     },
     "execution_count": 6,
     "metadata": {},
     "output_type": "execute_result"
    }
   ],
   "source": [
    "beer_lambert(21000, 200, 10)"
   ]
  },
  {
   "cell_type": "markdown",
   "metadata": {},
   "source": [
    "## Docstring\n",
    "\n",
    "The doctstring is an important (although not essential) component of any function. \n",
    "Describing the purpose of a function is valuable for many resaons, it helps to clarify what the function will do, it offers guidence for others on how to use the function, and it acts to remind the future you why it is that you have a particular function and what is does. \n",
    "You may read this final point an droll your eyes, however, I promise you that code you write today will not stay present in your memory forever. \n",
    "\n",
    "In addition to a description of the function, the docstring will typically include information about the arguments taken by the function and objects returned. \n",
    "There are common ways to write this, throughout this course we will use the [Google style](https://sphinxcontrib-napoleon.readthedocs.io/en/latest/example_google.html), however, other styles exist. \n",
    "Using a standard style of docstring is very useful when writing larger software packages, due to the availablity of tools that will automatically generate formatted documentation from the docstrings. \n",
    "The Google style indicates the arguments with the keyword `Args` before listing the arugments, their expected type and a short description. \n",
    "The `Returns` keyword is followed by a list of objects that are returned from the function. \n",
    "\n",
    "## Content\n",
    "\n",
    "The content of a function is relatively straight forward, it is the code that makes the function do something. \n",
    "However, be aware that a variable created within a function cannot be used elsewhere in the code, including argument variable. \n",
    "This is an aspect of programming known as *scope*. \n",
    "The scope of a variable is the parts of a given code that the variables are valid in. \n",
    "For example, the variable `concentration` is defined in the `beer_lambert` function above, but nowhere else in the code. \n",
    "Therefore, that variable's scope is only within the `beer_lambert` function block and cannot be used outside of it. \n",
    "Variables defined outside of a function can be used within the function, but *only* if they are defined before the function is defined, as a piece of Python code is interpreted from top-to-bottom.\n",
    "Considering the following function definition."
   ]
  },
  {
   "cell_type": "code",
   "execution_count": 7,
   "metadata": {},
   "outputs": [],
   "source": [
    "speed_of_light = 2.99792458e8\n",
    "planck = 6.62607004e-34\n",
    "\n",
    "def photon_energy(wavelength):\n",
    "    \"\"\"\n",
    "    Determines the energy of a single photon with a given wavelength.\n",
    "    \n",
    "    Args:\n",
    "        wavelength (float): Photon wavelength (m)\n",
    "    \n",
    "    Returns:\n",
    "        (float): Photon energy (J)\n",
    "    \"\"\"\n",
    "    return planck * speed_of_light / wavelength"
   ]
  },
  {
   "cell_type": "code",
   "execution_count": 8,
   "metadata": {},
   "outputs": [
    {
     "data": {
      "text/plain": [
       "3.310743040286264e-19"
      ]
     },
     "execution_count": 8,
     "metadata": {},
     "output_type": "execute_result"
    }
   ],
   "source": [
    "photon_energy(600e-9)"
   ]
  },
  {
   "cell_type": "markdown",
   "metadata": {},
   "source": [
    "## Return\n",
    "\n",
    "The `return` statement is the command that tells the Python interpretor to stop the function and return the value(s) given. \n",
    "You will not that in the `photon_energy` function above, there is a mathematical operation given in the `return` line. \n",
    "This is acceptable as the mathematics will be performed before the value is returned.\n",
    "\n",
    "It is possible to return more than one variable from a function. \n",
    "These will be returned as a `tuple`-type collection. \n",
    "An example where more than one variable is returned is shown below."
   ]
  },
  {
   "cell_type": "code",
   "execution_count": 9,
   "metadata": {},
   "outputs": [],
   "source": [
    "speed_of_light = 2.99792458e8\n",
    "planck = 6.62607004e-34\n",
    "\n",
    "def photon_energy(wavelength):\n",
    "    \"\"\"\n",
    "    Determines the energy of a single photon with a given wavelength in both\n",
    "    Joules and electron volts.\n",
    "    \n",
    "    Args:\n",
    "        wavelength (float): Photon wavelength (m)\n",
    "    \n",
    "    Returns:\n",
    "        (tuple of length 2, float): Photon energy in J and eV respectively\n",
    "    \"\"\"\n",
    "    energy = planck * speed_of_light / wavelength\n",
    "    return energy, energy * 6.242e+18"
   ]
  },
  {
   "cell_type": "code",
   "execution_count": 10,
   "metadata": {},
   "outputs": [
    {
     "data": {
      "text/plain": [
       "(3.310743040286264e-19, 2.066565805746686)"
      ]
     },
     "execution_count": 10,
     "metadata": {},
     "output_type": "execute_result"
    }
   ],
   "source": [
    "photon_energy(600e-9)"
   ]
  },
  {
   "cell_type": "markdown",
   "metadata": {},
   "source": [
    "> **Exercise**: Write a function that returns the momentum of a particle, given the particle's mass and velocity, using the following equation, \n",
    ">\n",
    "> $$ p = mv, $$\n",
    ">\n",
    "> where $p$ is the momentum, $m$ is the mass, and $v$ is the velocity. \n",
    "> Following this, write another function that uses the momentum function to calculate the kinetic energy of the particle, $E_k$, using, \n",
    "> \n",
    "> $$ E_k = \\frac{p^2}{2m}. $$\n",
    "> \n",
    "> Check that your function returns the same value of kinetic energy for a give mass and velocity as the `kinetic_energy` function defined earlier. \n",
    "> Ensure that you have appropriate docstrings of that a colleague could reuse your code."
   ]
  }
 ],
 "metadata": {
  "kernelspec": {
   "display_name": "Python 3",
   "language": "python",
   "name": "python3"
  },
  "language_info": {
   "codemirror_mode": {
    "name": "ipython",
    "version": 3
   },
   "file_extension": ".py",
   "mimetype": "text/x-python",
   "name": "python",
   "nbconvert_exporter": "python",
   "pygments_lexer": "ipython3",
   "version": "3.7.6"
  }
 },
 "nbformat": 4,
 "nbformat_minor": 4
}
