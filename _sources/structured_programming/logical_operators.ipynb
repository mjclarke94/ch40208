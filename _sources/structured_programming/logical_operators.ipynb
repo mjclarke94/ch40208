{
 "cells": [
  {
   "cell_type": "markdown",
   "metadata": {},
   "source": [
    "# Logical Operators\n",
    "\n",
    "When you were introduced to the different [variable types](../python_basics/variable_types) Boolean variables, which can be either `True` or `False`, were shown. \n",
    "Logical operators are pieces of code that will return a Boolean-type variable depending on some condition. \n",
    "For example, `==` is one of the most common logical operators and translates to *is equal to*, this logical operator will return `True` if the values on either side are equal and `False` if they are not."
   ]
  },
  {
   "cell_type": "code",
   "execution_count": 1,
   "metadata": {},
   "outputs": [
    {
     "data": {
      "text/plain": [
       "True"
      ]
     },
     "execution_count": 1,
     "metadata": {},
     "output_type": "execute_result"
    }
   ],
   "source": [
    "1 == 1"
   ]
  },
  {
   "cell_type": "markdown",
   "metadata": {},
   "source": [
    "Logical operators are incredibly important for developing *intelligent* code that can make decisions in an automated fashion based on some input. \n",
    "In the [next section](./flow_control), we will see how these logical operators can be used to affect the flow of your code. \n",
    "The `==` operator is not the only logical operator that is available in Python, a full range can be found in the table below. \n",
    "\n",
    "| Description | Mathematical symbol | Pythonic operator | \n",
    "|---|---|---|\n",
    "| is equal to | $=$ | `==` | \n",
    "| is less than | $<$ | `<` | \n",
    "| is less than or equal to | $\\leq$ | `<=` |\n",
    "| is greater than | $>$ | `>` |\n",
    "| is greater than or equal to | $\\geq$ | `>=` | \n",
    "| is not equal to | $\\neq$ | `!=` |\n",
    "\n",
    "> **Exercise**: In a Jupyter Notebook, write code that will return the Boolean result of the following logical operations: \n",
    "> 1. $1 = 4$\n",
    "> 2. $10 \\leq 15$ \n",
    "> 3. $3.1415 \\neq 3$\n",
    "\n",
    "## Combining operators\n",
    "\n",
    "In addition to the use of an individual logical operator, it is possible to use additional commands to combine multiple operators. These commands are `and` and `or`, they have different actions: \n",
    "- The `and` command will return `True` if **both** operations are `True`\n",
    "- The `or` command will return `True` if **either** operation is `True`\n",
    "\n",
    "Consider the example below from rotational spectroscopy, where the selection rule is $\\Delta J = \\pm 1$, so we would like `True` to be returned from the function if the change in $J$ is $+1$ *or* $-1$."
   ]
  },
  {
   "cell_type": "code",
   "execution_count": 2,
   "metadata": {},
   "outputs": [],
   "source": [
    "def check_selection_rule(initial_J, final_J):\n",
    "    \"\"\"\n",
    "    Checks the rotational spectroscopy selection rule. \n",
    "    \n",
    "    Args: \n",
    "        initial_J (int): The initial rotational quantum number.\n",
    "        final_J (int): The final rotational quantum number. \n",
    "    \n",
    "    Returns:\n",
    "        (bool): If the selection rule is adhered to.\n",
    "    \"\"\"\n",
    "    delta_J = final_J - initial_J\n",
    "    selection_rule = delta_J == +1 or delta_J == -1\n",
    "    return selection_rule"
   ]
  },
  {
   "cell_type": "code",
   "execution_count": 3,
   "metadata": {},
   "outputs": [
    {
     "data": {
      "text/plain": [
       "True"
      ]
     },
     "execution_count": 3,
     "metadata": {},
     "output_type": "execute_result"
    }
   ],
   "source": [
    "check_selection_rule(1, 2)"
   ]
  },
  {
   "cell_type": "code",
   "execution_count": 4,
   "metadata": {},
   "outputs": [
    {
     "data": {
      "text/plain": [
       "False"
      ]
     },
     "execution_count": 4,
     "metadata": {},
     "output_type": "execute_result"
    }
   ],
   "source": [
    "check_selection_rule(1, 3)"
   ]
  },
  {
   "cell_type": "markdown",
   "metadata": {},
   "source": [
    "In the `check_selection_rule` function, the following process is occurring when the arguments `1` and `2` are given.\n",
    "\n",
    "```\n",
    ">> delta_J = 2 - 1\n",
    ">> delta_J = 1\n",
    ">> selection_rule = 1 == +1 or 1 == -1\n",
    ">> selection_rule = True or False\n",
    ">> selection_rule = True\n",
    ">> return True\n",
    "```\n",
    "\n",
    "However, when the arguments `1` and `3` were passed, both operations around the `or` command are `False`, so `False` is returned.\n",
    "\n",
    "The table below shows the result of an `and` and an `or` command depending on different inputs. \n",
    "\n",
    "| Input A | Input B | Logic | Output |\n",
    "|---|---|---|---|\n",
    "| `True` | `False` | `and` | `False` |\n",
    "| `True` | `True` | `and` | `True` |\n",
    "| `False` | `False` | `and` | `False` |\n",
    "| `True` | `False` | `or` | `True` |\n",
    "| `True` | `True` | `or` | `True` |\n",
    "| `False` | `False` | `or` | `False` |\n",
    "\n",
    "> **Exercise**: Consider electronic spectroscopy, where there are two selection rules, the spin and Laporte rules, \n",
    "> \n",
    "> $$ \\Delta S = 0\\;\\;\\;\\;\\Delta l = \\pm1 $$\n",
    "> \n",
    "> where $\\Delta S$ is the change in the spin quantum number and $\\Delta l$ is the change in the orbital quantum number. \n",
    "> Both of these selection rules must be adhered to for the spectroscopic transition to be *allowed*. \n",
    "> Write a function (with an appropriate docstring) that when passed four arguments (the initial and final spin and orbital quantum numbers) will return if the transition is allowed or not. \n",
    ">\n",
    "> Once you have a *working* function, consult with a colleague and compare the differences in your approaches. "
   ]
  }
 ],
 "metadata": {
  "kernelspec": {
   "display_name": "Python 3",
   "language": "python",
   "name": "python3"
  },
  "language_info": {
   "codemirror_mode": {
    "name": "ipython",
    "version": 3
   },
   "file_extension": ".py",
   "mimetype": "text/x-python",
   "name": "python",
   "nbconvert_exporter": "python",
   "pygments_lexer": "ipython3",
   "version": "3.7.6"
  }
 },
 "nbformat": 4,
 "nbformat_minor": 4
}
