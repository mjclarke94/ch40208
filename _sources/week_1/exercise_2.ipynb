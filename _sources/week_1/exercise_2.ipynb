{
 "cells": [
  {
   "cell_type": "markdown",
   "metadata": {},
   "source": [
    "# Exercise 2\n",
    "\n",
    "In this exercise, we will design code to calculate the equilibrium constant, $K$, from the following equation,\n",
    "\n",
    "$$ K = \\exp\\bigg(\\frac{\\Delta G}{RT}\\bigg) $$, \n",
    "\n",
    "where $R = 8.314$ JK<sup>-1</sup>mol<sup>-1</sup>, $\\Delta G$ is the free energy change, and $T$ is the temperature. \n",
    "\n",
    "You code should be able to handle values of the free energy change in any of kJmol<sup>-1</sup>, Jmol<sup>-1</sup> or eV (where $1$ eV = $96485$ Jmol<sup>-1</sup>).\n",
    "The unit of the temperature is only going to be K.\n",
    "\n",
    "Again, this notebook is structured to help you understand how the problem should be broken down.\n",
    "\n",
    "First, we need to have the definition of the temperature, value of $\\Delta G$ and the units that are being used. "
   ]
  },
  {
   "cell_type": "code",
   "execution_count": 1,
   "metadata": {},
   "outputs": [],
   "source": [
    "# create a variable for each of the temperature, the free energy change value and associated unit\n",
    "\n"
   ]
  },
  {
   "cell_type": "markdown",
   "metadata": {},
   "source": [
    "If it unit is Jmol<sup>-1</sup>, no change is necessary to the value (as this agrees with the unit of $R$). Therefore this will be our `else`, but we need to perform a unit conversion `if` the unit is kJmol<sup>-1</sup> (a multiplication by 1000) of `elif` the unit is eV (a multiplication by 96485). "
   ]
  },
  {
   "cell_type": "code",
   "execution_count": 2,
   "metadata": {},
   "outputs": [],
   "source": [
    "# Using if, elif, and else convert the free energy value to J/mol\n",
    "\n"
   ]
  },
  {
   "cell_type": "markdown",
   "metadata": {},
   "source": [
    "Now that the value is in the correct units, we need to perform the arithmetic. \n",
    "\n",
    "However, you should be aware that Python does not natively support an exponential function. \n",
    "This means that we will have to `import` the function from a library (this will be discussed in detail in future weeks). \n",
    "Please make sure that the cell below is run, or else the code will not work. "
   ]
  },
  {
   "cell_type": "code",
   "execution_count": 4,
   "metadata": {},
   "outputs": [],
   "source": [
    "# importing the exp function \n",
    "from math import exp"
   ]
  },
  {
   "cell_type": "markdown",
   "metadata": {},
   "source": [
    "The `exp` function is used by putting the value that you want to take the exponential of within brakcet immediately following the `exp`. \n",
    "For example, to calculate the exponential of 2, the code would be `exp(2)`. "
   ]
  },
  {
   "cell_type": "code",
   "execution_count": 5,
   "metadata": {},
   "outputs": [],
   "source": [
    "# Do the arithmatic in this cell, using the exp function\n",
    "\n"
   ]
  },
  {
   "cell_type": "markdown",
   "metadata": {},
   "source": [
    "Finally, print the result (use a formatted string to make the result clear). "
   ]
  },
  {
   "cell_type": "code",
   "execution_count": 7,
   "metadata": {},
   "outputs": [],
   "source": [
    "# print here\n",
    "\n"
   ]
  },
  {
   "cell_type": "markdown",
   "metadata": {},
   "source": [
    "Now, go back and modify your `if`, `elif`, and `else` statements so that a string is printed warning the user of an unphysical temperature (e.g. less than or equal to zero). "
   ]
  }
 ],
 "metadata": {
  "kernelspec": {
   "display_name": "Python 3",
   "language": "python",
   "name": "python3"
  },
  "language_info": {
   "codemirror_mode": {
    "name": "ipython",
    "version": 3
   },
   "file_extension": ".py",
   "mimetype": "text/x-python",
   "name": "python",
   "nbconvert_exporter": "python",
   "pygments_lexer": "ipython3",
   "version": "3.7.6"
  }
 },
 "nbformat": 4,
 "nbformat_minor": 2
}
