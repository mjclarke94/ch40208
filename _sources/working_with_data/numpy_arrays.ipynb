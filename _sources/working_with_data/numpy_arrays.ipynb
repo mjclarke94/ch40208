{
 "cells": [
  {
   "cell_type": "markdown",
   "metadata": {},
   "source": [
    "# NumPy\n",
    "\n",
    "One of the most powerful packages in the Python ecosystem is [NumPy](https://numpy.org). \n",
    "In order to use the NumPy package, we must `import` it. \n",
    "\n",
    "## Importing packages\n",
    "\n",
    "The importing of packages is what makes the Python programming language so powerful and attractive, allowing the use of powerful algorithms and methods developed by (better) programmers to be easily accessed by anyone. \n",
    "To import the NumPy package we use the following."
   ]
  },
  {
   "cell_type": "code",
   "execution_count": 1,
   "metadata": {},
   "outputs": [],
   "source": [
    "import numpy as np"
   ]
  },
  {
   "cell_type": "markdown",
   "metadata": {},
   "source": [
    "This allows us to access all elements of the NumPy package, using the **dot syntax** that you have seen previously for the `math` module.\n",
    "Therefore, we can access the `log` function in NumPy by calling,"
   ]
  },
  {
   "cell_type": "code",
   "execution_count": 2,
   "metadata": {},
   "outputs": [
    {
     "data": {
      "text/plain": [
       "2.0"
      ]
     },
     "execution_count": 2,
     "metadata": {},
     "output_type": "execute_result"
    }
   ],
   "source": [
    "np.log(7.38905609893065)"
   ]
  },
  {
   "cell_type": "markdown",
   "metadata": {},
   "source": [
    "The `as` keyword in the import statement simply lets us create a shortcut.\n",
    "So, instead of writing `numpy.log` we can write just `np.log` (a lot of programming is about saving keystrokes). \n",
    "`np` is the standard abbreviation for NumPy. \n",
    "\n",
    "The above method imports **all** of the NumPy package, however, this may not be necessary. \n",
    "For example, if you **only** want to use the `pi` object from the NumPy package, it is possible import only this. "
   ]
  },
  {
   "cell_type": "code",
   "execution_count": 3,
   "metadata": {},
   "outputs": [
    {
     "name": "stdout",
     "output_type": "stream",
     "text": [
      "3.141592653589793\n"
     ]
    }
   ],
   "source": [
    "from numpy import pi\n",
    "\n",
    "print(pi)"
   ]
  },
  {
   "cell_type": "markdown",
   "metadata": {},
   "source": [
    "The above code, tells the kernel to import the `pi` object **from** the NumPy package. \n",
    "Note that with this import method, the dot syntax is no longer required.\n",
    "\n",
    "## NumPy Arrays\n",
    "\n",
    "One of the most useful tools in the NumPy package is the array. \n",
    "This stores a series of numerical data of the same type, similar to a [list](./../python_basics/lists/) but capable of performing highly optimised for mathematical operations. \n",
    "We can initialise a NumPy array with the following."
   ]
  },
  {
   "cell_type": "code",
   "execution_count": 4,
   "metadata": {},
   "outputs": [
    {
     "name": "stdout",
     "output_type": "stream",
     "text": [
      "[112 114 115 116 117 118 119 120 122 124]\n"
     ]
    }
   ],
   "source": [
    "mass_numbers = np.array([112, 114, 115, 116, 117, 118, 119, 120, 122, 124])\n",
    "print(mass_numbers)"
   ]
  },
  {
   "cell_type": "code",
   "execution_count": 5,
   "metadata": {},
   "outputs": [
    {
     "name": "stdout",
     "output_type": "stream",
     "text": [
      "[0.0097 0.0066 0.0034 0.1454 0.0768 0.2422 0.0859 0.3258 0.0463 0.0579]\n"
     ]
    }
   ],
   "source": [
    "isotopic_abundances = np.array([0.0097, 0.0066, 0.0034, 0.1454, 0.0768, 0.2422, 0.0859, 0.3258, 0.0463, 0.0579])\n",
    "print(isotopic_abundances)"
   ]
  },
  {
   "cell_type": "markdown",
   "metadata": {},
   "source": [
    "Above, we have defined two NumPy arrays, the first are the mass numbers for the stable isotopes of tin and the second are the abundances of each isotope. \n",
    "The efficiency of the NumPy array comes from the fact that all of the items in the array **must** be of the same type. \n",
    "We can see the type by investigating the `dtype` object of the array."
   ]
  },
  {
   "cell_type": "code",
   "execution_count": 6,
   "metadata": {},
   "outputs": [
    {
     "name": "stdout",
     "output_type": "stream",
     "text": [
      "int64\n"
     ]
    }
   ],
   "source": [
    "print(mass_numbers.dtype)"
   ]
  },
  {
   "cell_type": "code",
   "execution_count": 7,
   "metadata": {},
   "outputs": [
    {
     "name": "stdout",
     "output_type": "stream",
     "text": [
      "float64\n"
     ]
    }
   ],
   "source": [
    "print(isotopic_abundances.dtype)"
   ]
  },
  {
   "cell_type": "markdown",
   "metadata": {},
   "source": [
    "The mass numbers are integers while the isotopic abundences are floating point numbers (the 64 refers the number of bits of computer memory that the number occupies). \n",
    "\n",
    "## Arithmetic with NumPy arrays\n",
    "\n",
    "The fact that NumPy arrays are all of a same type means that it is possible to perform arthmetic on them. \n",
    "For example, all of the items in an array can be multipled by a single value. "
   ]
  },
  {
   "cell_type": "code",
   "execution_count": 8,
   "metadata": {},
   "outputs": [
    {
     "data": {
      "text/plain": [
       "array([1., 2., 3.])"
      ]
     },
     "execution_count": 8,
     "metadata": {},
     "output_type": "execute_result"
    }
   ],
   "source": [
    "np.array([0.1, 0.2, 0.3]) * 10.0"
   ]
  },
  {
   "cell_type": "markdown",
   "metadata": {},
   "source": [
    "Or two NumPy arrays can operator on each other."
   ]
  },
  {
   "cell_type": "code",
   "execution_count": 9,
   "metadata": {},
   "outputs": [
    {
     "data": {
      "text/plain": [
       "array([10., 10., 10.])"
      ]
     },
     "execution_count": 9,
     "metadata": {},
     "output_type": "execute_result"
    }
   ],
   "source": [
    "np.array([5, 10, 15]) + np.array([5.0, 0.0, -5.0])"
   ]
  },
  {
   "cell_type": "markdown",
   "metadata": {},
   "source": [
    "These operations on every element of a NumPy array are called **vector operations**.\n",
    "\n",
    "Using NumPy arrays for value-wise operations such as those shown where are **very** efficient and run much faster than explicitly looping over elements in a list.\n",
    "\n",
    "## NumPy functions\n",
    "\n",
    "In addition to the power of the NumPy array (on which some of Python's most impressive libraries are built), the NumPy library also enables access to a broad range of useful functions. \n",
    "For example, the `np.log` function that was introduced at the start, differs from the `math.log` function introduced earlier \n",
    "As the former can operate on NumPy array when the latter cannot. "
   ]
  },
  {
   "cell_type": "code",
   "execution_count": 10,
   "metadata": {},
   "outputs": [
    {
     "data": {
      "text/plain": [
       "array([0.05826891, 1.33500107, 2.7080502 , 3.81639277, 5.01462732])"
      ]
     },
     "execution_count": 10,
     "metadata": {},
     "output_type": "execute_result"
    }
   ],
   "source": [
    "K = np.array([1.06, 3.8, 15.0, 45.44, 150.6])\n",
    "\n",
    "np.log(K)"
   ]
  },
  {
   "cell_type": "code",
   "execution_count": 11,
   "metadata": {},
   "outputs": [
    {
     "ename": "TypeError",
     "evalue": "only size-1 arrays can be converted to Python scalars",
     "output_type": "error",
     "traceback": [
      "\u001b[0;31m---------------------------------------------------------------------------\u001b[0m",
      "\u001b[0;31mTypeError\u001b[0m                                 Traceback (most recent call last)",
      "\u001b[0;32m<ipython-input-11-4929fb6d8b0a>\u001b[0m in \u001b[0;36m<module>\u001b[0;34m\u001b[0m\n\u001b[1;32m      1\u001b[0m \u001b[0;32mfrom\u001b[0m \u001b[0mmath\u001b[0m \u001b[0;32mimport\u001b[0m \u001b[0mlog\u001b[0m\u001b[0;34m\u001b[0m\u001b[0;34m\u001b[0m\u001b[0m\n\u001b[1;32m      2\u001b[0m \u001b[0;34m\u001b[0m\u001b[0m\n\u001b[0;32m----> 3\u001b[0;31m \u001b[0mlog\u001b[0m\u001b[0;34m(\u001b[0m\u001b[0mK\u001b[0m\u001b[0;34m)\u001b[0m\u001b[0;34m\u001b[0m\u001b[0;34m\u001b[0m\u001b[0m\n\u001b[0m",
      "\u001b[0;31mTypeError\u001b[0m: only size-1 arrays can be converted to Python scalars"
     ]
    }
   ],
   "source": [
    "from math import log\n",
    "\n",
    "log(K)"
   ]
  },
  {
   "cell_type": "markdown",
   "metadata": {},
   "source": [
    "The function from the `math` module will result in an error. \n",
    "\n",
    "Alongside these mathematical operations, the NumPy library also enables statistical operations on the NumPy arrays. \n",
    "For example, sum, mean and standard deviations are easy to find."
   ]
  },
  {
   "cell_type": "code",
   "execution_count": 12,
   "metadata": {},
   "outputs": [
    {
     "data": {
      "text/plain": [
       "1177"
      ]
     },
     "execution_count": 12,
     "metadata": {},
     "output_type": "execute_result"
    }
   ],
   "source": [
    "np.sum(mass_numbers)"
   ]
  },
  {
   "cell_type": "code",
   "execution_count": 13,
   "metadata": {},
   "outputs": [
    {
     "data": {
      "text/plain": [
       "117.7"
      ]
     },
     "execution_count": 13,
     "metadata": {},
     "output_type": "execute_result"
    }
   ],
   "source": [
    "np.mean(mass_numbers)"
   ]
  },
  {
   "cell_type": "code",
   "execution_count": 14,
   "metadata": {},
   "outputs": [
    {
     "data": {
      "text/plain": [
       "3.4942810419312296"
      ]
     },
     "execution_count": 14,
     "metadata": {},
     "output_type": "execute_result"
    }
   ],
   "source": [
    "np.std(mass_numbers)"
   ]
  },
  {
   "cell_type": "markdown",
   "metadata": {},
   "source": [
    "## Exercises: \n",
    "\n",
    "1. Using the `mass_numbers` and `isotopic_abundances` arrays above, evaluate the average mass number for tin. \n",
    "\n",
    "2. Rewrite or modify your code from the **Loops** Exercise to calculate the distances between each pair of atoms, using **numpy arrays** to store the atom positions, and **vector arithmetic** to calculate the vectors between pairs of atoms."
   ]
  }
 ],
 "metadata": {
  "kernelspec": {
   "display_name": "Python 3",
   "language": "python",
   "name": "python3"
  },
  "language_info": {
   "codemirror_mode": {
    "name": "ipython",
    "version": 3
   },
   "file_extension": ".py",
   "mimetype": "text/x-python",
   "name": "python",
   "nbconvert_exporter": "python",
   "pygments_lexer": "ipython3",
   "version": "3.7.7"
  }
 },
 "nbformat": 4,
 "nbformat_minor": 4
}
